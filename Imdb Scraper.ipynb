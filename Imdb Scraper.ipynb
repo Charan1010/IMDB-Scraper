{
 "cells": [
  {
   "cell_type": "code",
   "execution_count": 24,
   "metadata": {},
   "outputs": [],
   "source": [
    "import requests\n",
    "import bs4\n",
    "import os\n",
    "import webbrowser\n",
    "import pyperclip\n",
    "import re\n",
    "import pprint\n",
    "import pandas as pd\n",
    "import seaborn as sns\n",
    "import matplotlib.pyplot as plt\n",
    "movie_name = []\n",
    "imdb_rating = []\n",
    "meta_rating = []\n",
    "votes = []\n",
    "runtime=[]\n",
    "tl_gross=[]\n",
    "\n",
    "for j in range(10,16):\n",
    "    for i in range(0,2):\n",
    "        try:\n",
    "            res = requests.get(\n",
    "            \"https://www.imdb.com/search/title?release_date=20\"+str(j)+\"-01-01,20\"+str(j)+\"-12-31&sort=num_votes,desc&page=\"+str(i)+\"&ref_=adv_next\")\n",
    "            res.raise_for_status()\n",
    "            soup = bs4.BeautifulSoup(res.text, \"html.parser\")\n",
    "            tl_name = soup.select('.lister-item-header > a')\n",
    "            # print \"Name\"+str(len(tl_name))\n",
    "            tl_imdb = soup.select('.inline-block.ratings-imdb-rating')\n",
    "            tl_runtime = soup.select('.runtime')\n",
    "            tl_runtime=tl_runtime[1:]\n",
    "            # print \"runtime\"+str(len(tl_runtime))\n",
    "           \n",
    "            # print \"IMDB\"+str(len(tl_imdb))\n",
    "            mv_containers = soup.select('.lister-item.mode-advanced')\n",
    "            tl_meta=[]\n",
    "            for container in mv_containers:\n",
    "                if container.select('.ratings-metascore') is not None:\n",
    "                    tl_meta.append(container.select('.metascore'))\n",
    "            # print \"meta\"+str(len(tl_meta))        \n",
    "                \n",
    "                \n",
    "            tl_votes = []\n",
    "           \n",
    "            for p in soup.select('.sort-num_votes-visible'):\n",
    "                tl_votes.append(p.select('span[name=\"nv\"]')[0])\n",
    "                if len(p.select('span[name=\"nv\"]'))>1:\n",
    "                     tl_gross.append(p.select('span[name=\"nv\"]')[1].get(\"data-value\").encode('utf-8'))\n",
    "                    \n",
    "            # print \"Votes\"+str(len(tl_votes))\n",
    "            \n",
    "            \n",
    "        except Exception as err:\n",
    "            print(\"raised exception is \"+str(err))   \n",
    "\n",
    "\n",
    "        for i, j, k,l,m in zip(tl_name, tl_imdb, tl_meta, tl_votes,tl_runtime):\n",
    "            movie_name.append(i.getText().encode('utf-8'))\n",
    "            imdb_rating.append(str(j.get(\"data-value\").encode('utf-8')))\n",
    "            if len(k)!= 0:\n",
    "                meta_rating.append(k[0].getText().encode('utf-8'))\n",
    "            else:\n",
    "                meta_rating.append(None)\n",
    "            votes.append(l.getText().encode('utf-8'))\n",
    "            runtime.append(m.getText().encode('utf-8'))\n",
    "                 \n",
    "   \n",
    " \n",
    "# print len(movie_name)\n",
    "#print len(imdb_rating)\n",
    "#print len(meta_rating)\n",
    "#print len(votes)\n",
    "#print len(runtime)\n",
    "#print len(tl_gross)\n",
    "        \n",
    "df=pd.DataFrame({\"Name\": movie_name, \"IMDB\": imdb_rating, \"MetaCritic\": meta_rating, \"Votes\": votes, \"Runtime\":runtime})\n"
   ]
  },
  {
   "cell_type": "code",
   "execution_count": 25,
   "metadata": {},
   "outputs": [
    {
     "data": {
      "text/html": [
       "<div>\n",
       "<style scoped>\n",
       "    .dataframe tbody tr th:only-of-type {\n",
       "        vertical-align: middle;\n",
       "    }\n",
       "\n",
       "    .dataframe tbody tr th {\n",
       "        vertical-align: top;\n",
       "    }\n",
       "\n",
       "    .dataframe thead th {\n",
       "        text-align: right;\n",
       "    }\n",
       "</style>\n",
       "<table border=\"1\" class=\"dataframe\">\n",
       "  <thead>\n",
       "    <tr style=\"text-align: right;\">\n",
       "      <th></th>\n",
       "      <th>IMDB</th>\n",
       "      <th>MetaCritic</th>\n",
       "      <th>Name</th>\n",
       "      <th>Runtime</th>\n",
       "      <th>Votes</th>\n",
       "    </tr>\n",
       "  </thead>\n",
       "  <tbody>\n",
       "    <tr>\n",
       "      <th>0</th>\n",
       "      <td>8.8</td>\n",
       "      <td>74</td>\n",
       "      <td>Inception</td>\n",
       "      <td>148 min</td>\n",
       "      <td>1,737,545</td>\n",
       "    </tr>\n",
       "    <tr>\n",
       "      <th>1</th>\n",
       "      <td>8.1</td>\n",
       "      <td>63</td>\n",
       "      <td>Shutter Island</td>\n",
       "      <td>138 min</td>\n",
       "      <td>948,466</td>\n",
       "    </tr>\n",
       "    <tr>\n",
       "      <th>2</th>\n",
       "      <td>8.4</td>\n",
       "      <td>None</td>\n",
       "      <td>The Walking Dead</td>\n",
       "      <td>44 min</td>\n",
       "      <td>748,753</td>\n",
       "    </tr>\n",
       "    <tr>\n",
       "      <th>3</th>\n",
       "      <td>9.2</td>\n",
       "      <td>None</td>\n",
       "      <td>Sherlock</td>\n",
       "      <td>88 min</td>\n",
       "      <td>655,045</td>\n",
       "    </tr>\n",
       "    <tr>\n",
       "      <th>4</th>\n",
       "      <td>8.3</td>\n",
       "      <td>92</td>\n",
       "      <td>Toy Story 3</td>\n",
       "      <td>103 min</td>\n",
       "      <td>646,084</td>\n",
       "    </tr>\n",
       "  </tbody>\n",
       "</table>\n",
       "</div>"
      ],
      "text/plain": [
       "  IMDB  MetaCritic              Name  Runtime      Votes\n",
       "0  8.8  74                 Inception  148 min  1,737,545\n",
       "1  8.1  63            Shutter Island  138 min    948,466\n",
       "2  8.4        None  The Walking Dead   44 min    748,753\n",
       "3  9.2        None          Sherlock   88 min    655,045\n",
       "4  8.3  92               Toy Story 3  103 min    646,084"
      ]
     },
     "execution_count": 25,
     "metadata": {},
     "output_type": "execute_result"
    }
   ],
   "source": [
    "df.head()\n"
   ]
  },
  {
   "cell_type": "code",
   "execution_count": 26,
   "metadata": {},
   "outputs": [
    {
     "data": {
      "text/plain": [
       "IMDB          False\n",
       "MetaCritic     True\n",
       "Name          False\n",
       "Runtime       False\n",
       "Votes         False\n",
       "dtype: bool"
      ]
     },
     "execution_count": 26,
     "metadata": {},
     "output_type": "execute_result"
    }
   ],
   "source": [
    "df.isnull().any()"
   ]
  },
  {
   "cell_type": "code",
   "execution_count": 27,
   "metadata": {},
   "outputs": [
    {
     "name": "stdout",
     "output_type": "stream",
     "text": [
      "(600, 5)\n",
      "(564, 5)\n",
      "  IMDB  MetaCritic            Name  Runtime      Votes        Gross\n",
      "0  8.8  74               Inception  148 min  1,737,545  292,576,195\n",
      "1  8.1  63          Shutter Island  138 min    948,466  128,012,934\n",
      "4  8.3  92             Toy Story 3  103 min    646,084  415,004,880\n",
      "5    8  79              Black Swan  108 min    621,643  106,954,678\n",
      "6    7  57              Iron Man 2  124 min    611,148  312,433,331\n"
     ]
    }
   ],
   "source": [
    "print df.shape\n",
    "df=df.dropna()\n",
    "print df.shape\n",
    "df[\"Gross\"]=tl_gross\n",
    "print df.head()\n"
   ]
  },
  {
   "cell_type": "code",
   "execution_count": 28,
   "metadata": {},
   "outputs": [
    {
     "name": "stdout",
     "output_type": "stream",
     "text": [
      "  IMDB  MetaCritic            Name Runtime    Votes      Gross\n",
      "0  8.8  74               Inception    148   1737545  292576195\n",
      "1  8.1  63          Shutter Island    138    948466  128012934\n",
      "4  8.3  92             Toy Story 3    103    646084  415004880\n",
      "5    8  79              Black Swan    108    621643  106954678\n",
      "6    7  57              Iron Man 2    124    611148  312433331\n"
     ]
    }
   ],
   "source": [
    "df[\"Runtime\"]=df[\"Runtime\"].str.replace(\"min\",\"\")\n",
    "df['Votes']=df.Votes.str.replace(',','')\n",
    "df['Gross']=df.Gross.str.replace(',','')\n",
    "print df.head()"
   ]
  },
  {
   "cell_type": "code",
   "execution_count": 29,
   "metadata": {
    "scrolled": true
   },
   "outputs": [],
   "source": [
    "df=df.drop(\"Name\",axis=1)"
   ]
  },
  {
   "cell_type": "code",
   "execution_count": 30,
   "metadata": {},
   "outputs": [],
   "source": [
    "df=df.astype(\"float64\")"
   ]
  },
  {
   "cell_type": "code",
   "execution_count": 31,
   "metadata": {},
   "outputs": [
    {
     "data": {
      "text/html": [
       "<div>\n",
       "<style scoped>\n",
       "    .dataframe tbody tr th:only-of-type {\n",
       "        vertical-align: middle;\n",
       "    }\n",
       "\n",
       "    .dataframe tbody tr th {\n",
       "        vertical-align: top;\n",
       "    }\n",
       "\n",
       "    .dataframe thead th {\n",
       "        text-align: right;\n",
       "    }\n",
       "</style>\n",
       "<table border=\"1\" class=\"dataframe\">\n",
       "  <thead>\n",
       "    <tr style=\"text-align: right;\">\n",
       "      <th></th>\n",
       "      <th>IMDB</th>\n",
       "      <th>MetaCritic</th>\n",
       "      <th>Runtime</th>\n",
       "      <th>Votes</th>\n",
       "      <th>Gross</th>\n",
       "    </tr>\n",
       "  </thead>\n",
       "  <tbody>\n",
       "    <tr>\n",
       "      <th>IMDB</th>\n",
       "      <td>1.000000</td>\n",
       "      <td>0.716592</td>\n",
       "      <td>0.497111</td>\n",
       "      <td>0.828841</td>\n",
       "      <td>0.149700</td>\n",
       "    </tr>\n",
       "    <tr>\n",
       "      <th>MetaCritic</th>\n",
       "      <td>0.716592</td>\n",
       "      <td>1.000000</td>\n",
       "      <td>0.348138</td>\n",
       "      <td>0.517006</td>\n",
       "      <td>0.210698</td>\n",
       "    </tr>\n",
       "    <tr>\n",
       "      <th>Runtime</th>\n",
       "      <td>0.497111</td>\n",
       "      <td>0.348138</td>\n",
       "      <td>1.000000</td>\n",
       "      <td>0.553574</td>\n",
       "      <td>0.311142</td>\n",
       "    </tr>\n",
       "    <tr>\n",
       "      <th>Votes</th>\n",
       "      <td>0.828841</td>\n",
       "      <td>0.517006</td>\n",
       "      <td>0.553574</td>\n",
       "      <td>1.000000</td>\n",
       "      <td>0.343440</td>\n",
       "    </tr>\n",
       "    <tr>\n",
       "      <th>Gross</th>\n",
       "      <td>0.149700</td>\n",
       "      <td>0.210698</td>\n",
       "      <td>0.311142</td>\n",
       "      <td>0.343440</td>\n",
       "      <td>1.000000</td>\n",
       "    </tr>\n",
       "  </tbody>\n",
       "</table>\n",
       "</div>"
      ],
      "text/plain": [
       "                IMDB  MetaCritic   Runtime     Votes     Gross\n",
       "IMDB        1.000000    0.716592  0.497111  0.828841  0.149700\n",
       "MetaCritic  0.716592    1.000000  0.348138  0.517006  0.210698\n",
       "Runtime     0.497111    0.348138  1.000000  0.553574  0.311142\n",
       "Votes       0.828841    0.517006  0.553574  1.000000  0.343440\n",
       "Gross       0.149700    0.210698  0.311142  0.343440  1.000000"
      ]
     },
     "execution_count": 31,
     "metadata": {},
     "output_type": "execute_result"
    }
   ],
   "source": [
    "df.corr()"
   ]
  },
  {
   "cell_type": "code",
   "execution_count": 32,
   "metadata": {},
   "outputs": [
    {
     "data": {
      "text/plain": [
       "<matplotlib.axes._subplots.AxesSubplot at 0x7f52ff59f090>"
      ]
     },
     "execution_count": 32,
     "metadata": {},
     "output_type": "execute_result"
    },
    {
     "data": {
      "image/png": "[encoded data removed]",
      "text/plain": [
       "<Figure size 432x288 with 2 Axes>"
      ]
     },
     "metadata": {},
     "output_type": "display_data"
    }
   ],
   "source": [
    "sns.heatmap(df.corr(),annot=True,square=True)"
   ]
  },
  {
   "cell_type": "code",
   "execution_count": 33,
   "metadata": {},
   "outputs": [],
   "source": [
    "df.to_csv(\"IMDB_MOVIE_DATA\",encoding='utf=8',index=False)"
   ]
  },
  {
   "cell_type": "code",
   "execution_count": null,
   "metadata": {},
   "outputs": [],
   "source": []
  }
 ],
 "metadata": {
  "kernelspec": {
   "display_name": "Python 2",
   "language": "python",
   "name": "python2"
  },
  "language_info": {
   "codemirror_mode": {
    "name": "ipython",
    "version": 2
   },
   "file_extension": ".py",
   "mimetype": "text/x-python",
   "name": "python",
   "nbconvert_exporter": "python",
   "pygments_lexer": "ipython2",
   "version": "2.7.15rc1"
  }
 },
 "nbformat": 4,
 "nbformat_minor": 2
}
